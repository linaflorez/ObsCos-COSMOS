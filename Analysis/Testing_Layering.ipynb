{
 "cells": [
  {
   "cell_type": "code",
   "execution_count": null,
   "metadata": {},
   "outputs": [],
   "source": [
    "import numpy as np\n",
    "from astropy.io import fits as fits\n",
    "import matplotlib.pyplot as plt\n",
    "import matplotlib.patches as patches \n",
    "from astropy.coordinates import SkyCoord\n",
    "from astropy.coordinates import match_coordinates_sky\n",
    "from astropy.coordinates import search_around_sky\n",
    "from astropy import units as u\n",
    "from astropy.coordinates import Angle, SkyCoord\n",
    "import matplotlib.cm as cm\n",
    "from scipy.ndimage import gaussian_filter as gf\n",
    "from astropy.nddata import Cutout2D\n",
    "import astropy.visualization as viz\n",
    "from astropy.wcs import WCS\n",
    "from astropy.visualization import ZScaleInterval\n",
    "import astropy.coordinates as coords\n",
    "from astropy.visualization.wcsaxes import WCSAxes\n",
    "import astropy.visualization.wcsaxes.frame as frame\n",
    "from astropy.table import Table\n",
    "import pandas as pd\n",
    "from scipy.stats import kde\n",
    "import time\n",
    "import pickle\n",
    "import os\n",
    "import reproject\n",
    "from sklearn import preprocessing\n",
    "from sklearn.preprocessing import MinMaxScaler, Normalizer\n",
    "from IPython.display import Image\n",
    "import seaborn as sns\n",
    "\n",
    "%matplotlib notebook\n",
    "%matplotlib inline"
   ]
  },
  {
   "cell_type": "markdown",
   "metadata": {},
   "source": [
    "## OBJECTIVE:\n",
    "### (1) Test the stacking/coadding code on a few HSC sources with counterparts (they must have share similar magnitudes). If the resulting plot contains a source at the center of the image 🥳\n",
    "\n",
    "### (2) Take those same sources and convert the image’s center-most pixels from flux units to magnitudes. If the resulting magnitude value is reasonable (near the shared values of the individual stacked sources), this will serve as a sanity check for my unit calculations. \n",
    "\n",
    "### (3) Depending on step 2 goes, I’ll determine the magnitudes for the stacked sources without counterparts across the g,r,i,z,and y bands by focusing on the center pixels and converting the flux to magnitudes. \n"
   ]
  },
  {
   "cell_type": "markdown",
   "metadata": {},
   "source": [
    "### Gathering HSC and Chandra Data"
   ]
  },
  {
   "cell_type": "code",
   "execution_count": null,
   "metadata": {},
   "outputs": [],
   "source": [
    "Chandra_Data = Table.read('Chandra_COSMOS_Legacy_20151120_4d.fits', format='fits').to_pandas()\n",
    "HSC_Data = pd.read_csv(\"Color_COSMOS_DD.csv\", dtype = np.float64).dropna(axis = 0, how = \"any\")"
   ]
  },
  {
   "cell_type": "markdown",
   "metadata": {},
   "source": [
    "### Determining counterparts"
   ]
  },
  {
   "cell_type": "code",
   "execution_count": null,
   "metadata": {},
   "outputs": [],
   "source": [
    "#pickles contain all the data in a more manageable way!\n",
    "with open('/Users/linaflorez/Desktop/ObsCos/COSMOS_research/venv/moredataHSC_skycoords.pkl', 'rb') as f:\n",
    "    HSC_catalog = pickle.load(f)\n",
    "with open('/Users/linaflorez/Desktop/ObsCos/COSMOS_research/venv/Chandra_skycoords.pkl', 'rb') as f:\n",
    "    Chandra_catalog = pickle.load(f)\n",
    "\n",
    "max_sep = 1.0 * u.arcsec\n",
    "#idx1 indexes Chandra, #idx2 indexes HSC\n",
    "idx1, idx2, sep2d, dist3d = search_around_sky(Chandra_catalog, HSC_catalog, max_sep) \n",
    "print(\"Number of matches:\", len(idx1))"
   ]
  },
  {
   "cell_type": "code",
   "execution_count": null,
   "metadata": {},
   "outputs": [],
   "source": [
    "search_around_sky?"
   ]
  },
  {
   "cell_type": "code",
   "execution_count": null,
   "metadata": {},
   "outputs": [],
   "source": [
    "plt.style.use(\"seaborn-paper\")\n",
    "plt.figure(figsize = (10,10))\n",
    "plt.scatter(Chandra_catalog.ra, Chandra_catalog.dec, label = \"All Chandra Sources\")\n",
    "plt.scatter(Chandra_catalog.ra[idx1], Chandra_catalog.dec[idx1], alpha = 0.6, label = \"Matches: \\n %i matches\" % (len(idx1)))\n",
    "plt.xlim(149.25,151)\n",
    "plt.ylim(1.39, 3.2)\n",
    "plt.xlabel(\"Right Ascension (J2000)\", weight = \"bold\", size = 20)\n",
    "plt.ylabel(\"Declination (J2000)\", weight = \"bold\", size = 20)\n",
    "plt.legend(loc = \"upper right\", prop={'size': 15})\n",
    "plt.tick_params(\"both\", labelsize = 15)\n",
    "plt.tight_layout()\n",
    "#plt.savefig(\"/Users/linaflorez/Desktop/ObsCos/COSMOS_research/Plots/Matches/Chandra_RAvDec.pdf\")\n",
    "plt.show()"
   ]
  },
  {
   "cell_type": "code",
   "execution_count": null,
   "metadata": {},
   "outputs": [],
   "source": [
    "matches = pd.DataFrame()\n",
    "matches[\"ra\"] = HSC_catalog[idx2].ra.value\n",
    "matches[\"dec\"] = HSC_catalog[idx2].dec.value\n",
    "matches = matches.drop_duplicates(subset='ra', keep='first')\n",
    "len(idx1)"
   ]
  },
  {
   "cell_type": "markdown",
   "metadata": {},
   "source": [
    "### Creating separate HSC and Chandra dataframes containing only sources with counterparts\n",
    "(i.e. sources that have matches)"
   ]
  },
  {
   "cell_type": "code",
   "execution_count": null,
   "metadata": {},
   "outputs": [],
   "source": [
    "Chandra_matches = Chandra_catalog[idx1]\n",
    "HSC_matches = HSC_Data.loc[HSC_Data[\"# ra\"].isin(HSC_catalog[idx2].ra.value)]#.any()"
   ]
  },
  {
   "cell_type": "markdown",
   "metadata": {},
   "source": [
    "### Getting sources with a certain G magnitude\n",
    "I wanted to focus HSC sources that had counterparts & a gcmodel_magnitude of roughly 26"
   ]
  },
  {
   "cell_type": "code",
   "execution_count": null,
   "metadata": {},
   "outputs": [],
   "source": [
    "gcmodel_mag26ish = HSC_matches.loc[abs(26 - HSC_matches[\"gcmodel_mag\"]) < 0.05][[\"# ra\",\"dec\"]][0:40:4]\n",
    "gcmodel_mag26ish.to_csv(\"gcmodel_mag26ish.csv\", index=False) #going to input this into hscmap"
   ]
  },
  {
   "cell_type": "code",
   "execution_count": null,
   "metadata": {},
   "outputs": [],
   "source": [
    "folder_path = \"/Users/linaflorez/Desktop/ObsCos/COSMOS_research/Restart/CheckingStackingG/\"\n",
    "ra = (gcmodel_mag26ish[\"# ra\"]).astype(str)\n",
    "\n",
    "## Making folders for all of the sources\n",
    "# for folder in ra:\n",
    "#     os.mkdir(os.path.join(folder_path,folder))\n",
    "\n",
    "g_fits = []\n",
    "\n",
    "# folder_path_name = \"/Users/linaflorez/Desktop/ObsCos/COSMOS_research/Restart/FITS_FILES\"\n",
    "\n",
    "for subdir, dirs, files in os.walk(folder_path):\n",
    "    for file in files:\n",
    "        if file.startswith(\"cutout-HSC-G\"):\n",
    "            g_fits.append([os.path.join(subdir, file).split(os.sep)[-2],os.path.join(subdir, file)])\n",
    "            \n",
    "g_fits = np.array(g_fits)\n",
    "\n",
    "#Organizing the sources for handling later on\n",
    "indices = []\n",
    "for index_j,j in enumerate(ra.values):\n",
    "    for index_i,i in enumerate(g_fits[:,0]):\n",
    "        if j == i:\n",
    "            indices.append(index_i)\n",
    "gcmodel_mag26ish[\"gfits\"] = g_fits[indices][:,1]"
   ]
  },
  {
   "cell_type": "markdown",
   "metadata": {},
   "source": [
    "## Forming a dataframe of the newly acquired data, containing fits files and corresponding ra and dec info"
   ]
  },
  {
   "cell_type": "code",
   "execution_count": null,
   "metadata": {},
   "outputs": [],
   "source": [
    "df = pd.DataFrame()\n",
    "df[\"ra\"] = ra.astype(\"float\")\n",
    "df[\"dec\"] = gcmodel_mag26ish[\"dec\"].astype(\"float\")\n",
    "df[\"gfits\"] = g_fits[indices][:,1]\n",
    "df.to_csv(\"testing_layering_gband.csv\")"
   ]
  },
  {
   "cell_type": "markdown",
   "metadata": {},
   "source": [
    "## Layering function"
   ]
  },
  {
   "cell_type": "code",
   "execution_count": null,
   "metadata": {},
   "outputs": [],
   "source": [
    "def cutout_func(band, result):  \n",
    "    num = np.zeros((18,18))\n",
    "    denom = np.zeros((18,18))\n",
    "    flux_mag0 = []\n",
    "    \n",
    "    for i in range(len(result)):\n",
    "        #Getting RA and Dec of source for cutout\n",
    "        respective_band = result[band].iloc[i]\n",
    "        RA = result[\"ra\"].iloc[i]\n",
    "        DEC = result[\"dec\"].iloc[i]\n",
    "        hdulist = fits.open(respective_band)\n",
    "        flux_mag0.append(hdulist[0].header[\"FLUXMAG0\"])\n",
    "\n",
    "        # Courtesy of hscMap \n",
    "        image = hdulist[1].data\n",
    "        mask = hdulist[2].data\n",
    "        variance = hdulist[3].data #for inverse variance\n",
    "\n",
    "        # Prepping for cutout\n",
    "        wcs = WCS(hdulist[1].header)\n",
    "        coords = SkyCoord(ra=RA*u.degree, dec=DEC*u.degree)\n",
    "        cut_center = SkyCoord(coords)\n",
    "        size = 3 #arcsecs\n",
    "        cutout_size = np.array([size, size]) * u.arcsec\n",
    "\n",
    "        # Doing a cutout on the image array\n",
    "        cutout = Cutout2D(image, cut_center, cutout_size, wcs=wcs)\n",
    "\n",
    "        # Doing a cutout on the variance array\n",
    "        adjusted_var = Cutout2D(variance, cut_center, cutout_size, wcs=wcs).data\n",
    "\n",
    "        #added on/stacked to initialized num/denom arrays\n",
    "        num += cutout.data/adjusted_var \n",
    "        denom += 1/adjusted_var\n",
    "    \n",
    "    cutouts = num/denom \n",
    "\n",
    "    # Plotting stacked image!\n",
    "    plt.style.use(\"dark_background\")\n",
    "    fig,(ax1) = plt.subplots(1,1, figsize = (20,10))\n",
    "    title = \"Stacking\" + \" \" + band + \" \" + \"files \\n (for\" + \" \" + str(result.shape[0]) + \" \" + \"sources w/ counterparts)\" \n",
    "    plt.title(title, weight = \"bold\", size = 20)\n",
    "    plot = plt.imshow(cutouts, cmap = \"plasma\", extent=[-size/2 ,size/2,-size/2 ,size/2], aspect='auto')\n",
    "    plt.contour(cutouts, 3, extent=[-size/2 ,size/2,-size/2 ,size/2],cmap='Greys')\n",
    "    plt.xlabel(\"Arcsecs\", weight = \"bold\", size = 20)\n",
    "    plt.ylabel(\"Arcsecs\", weight = \"bold\", size = 20)\n",
    "    plt.tick_params(\"both\", labelsize = 20)\n",
    "    cbar = fig.colorbar(plot, label = \"Flux Units\")\n",
    "    cbar.ax.tick_params(labelsize=20)\n",
    "    plt.savefig(\"Testing_stacking.pdf\")\n",
    "    \n",
    "    \n",
    "    #Determining magnitude\n",
    "    smaller_section = cutouts[6:12,6:12]\n",
    "    magnitude = -2.5 * np.log10(np.sum(smaller_section)/flux_mag0[0])\n",
    "    plt.style.use(\"dark_background\")\n",
    "    fig,(ax1) = plt.subplots(1,1, figsize = (20,10))\n",
    "    title = \"Central region (for \" + str(result.shape[0]) + \" stacked \" + band  + \" sources w/ counterparts)\" +\"\\n\" + \"Magnitude = \" + str(round(magnitude,2)) \n",
    "    plt.title(title, weight = \"bold\", size = 20)\n",
    "    plot = plt.imshow(smaller_section, cmap = \"plasma\", extent=[-0.5 ,0.5,-0.5 ,0.5], aspect='auto')\n",
    "    plt.contour(smaller_section, 2, extent=[-0.5 ,0.5,-0.5 ,0.5],cmap='Greys')\n",
    "    plt.xlabel(\"Arcsecs\", weight = \"bold\", size = 20)\n",
    "    plt.ylabel(\"Arcsecs\", weight = \"bold\", size = 20)\n",
    "    plt.tick_params(\"both\", labelsize = 20)\n",
    "    cbar = fig.colorbar(plot, label = \"Flux Units\")\n",
    "    cbar.ax.tick_params(labelsize=20, size = 20)\n",
    "    plt.savefig(\"Testing_mag_calculation.pdf\")\n",
    "    \n",
    "\n",
    "\n",
    "    \n",
    "    return cutouts"
   ]
  },
  {
   "cell_type": "markdown",
   "metadata": {},
   "source": [
    "## Testing the layering function"
   ]
  },
  {
   "cell_type": "code",
   "execution_count": null,
   "metadata": {},
   "outputs": [],
   "source": [
    "patch = cutout_func(\"gfits\", df)"
   ]
  },
  {
   "cell_type": "code",
   "execution_count": null,
   "metadata": {},
   "outputs": [],
   "source": [
    "plt.style.use(\"dark_background\")\n",
    "fig,(ax1) = plt.subplots(1,1, figsize = (20,10))\n",
    "title = \"Stacking\" + \" \" + \"gfits\" + \" \" + \"files \\n (for\" + \" \" + str(result.shape[0]) + \" \" + \"sources w/o counterparts)\" \n",
    "plt.title(title, weight = \"bold\", size = 20)\n",
    "plot = plt.imshow(patch[6:9,6:9], cmap = \"plasma\", extent=[-size/2 ,size/2,-size/2 ,size/2], aspect='auto')\n",
    "plt.contour(patch[6:9,6:9], 5, extent=[-size/2 ,size/2,-size/2 ,size/2],cmap='Greys')\n",
    "plt.xlabel(\"Arcsecs\", weight = \"bold\", size = 20)\n",
    "plt.ylabel(\"Arcsecs\", weight = \"bold\", size = 20)\n",
    "plt.tick_params(\"both\", labelsize = 20)\n",
    "cbar = fig.colorbar(plot)\n",
    "cbar.ax.tick_params(labelsize=20)\n",
    "\n",
    "\n"
   ]
  },
  {
   "cell_type": "code",
   "execution_count": null,
   "metadata": {},
   "outputs": [],
   "source": []
  }
 ],
 "metadata": {
  "kernelspec": {
   "display_name": "Python 3",
   "language": "python",
   "name": "python3"
  },
  "language_info": {
   "codemirror_mode": {
    "name": "ipython",
    "version": 3
   },
   "file_extension": ".py",
   "mimetype": "text/x-python",
   "name": "python",
   "nbconvert_exporter": "python",
   "pygments_lexer": "ipython3",
   "version": "3.7.6"
  }
 },
 "nbformat": 4,
 "nbformat_minor": 4
}
