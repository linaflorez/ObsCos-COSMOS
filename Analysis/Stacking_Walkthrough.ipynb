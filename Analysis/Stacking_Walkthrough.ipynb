{
 "cells": [
  {
   "cell_type": "code",
   "execution_count": null,
   "metadata": {
    "slideshow": {
     "slide_type": "skip"
    }
   },
   "outputs": [],
   "source": [
    "import numpy as np\n",
    "from astropy.io import fits as fits\n",
    "import matplotlib.pyplot as plt\n",
    "from astropy.coordinates import SkyCoord\n",
    "from astropy.coordinates import match_coordinates_sky\n",
    "from astropy.coordinates import search_around_sky\n",
    "from astropy import units as u\n",
    "from astropy.coordinates import Angle, SkyCoord\n",
    "import matplotlib.cm as cm\n",
    "from scipy.ndimage import gaussian_filter as gf\n",
    "from astropy.nddata import Cutout2D\n",
    "import astropy.visualization as viz\n",
    "from astropy.wcs import WCS\n",
    "from astropy.visualization import ZScaleInterval\n",
    "import astropy.coordinates as coords\n",
    "from astropy.visualization.wcsaxes import WCSAxes\n",
    "import astropy.visualization.wcsaxes.frame as frame\n",
    "from astropy.table import Table\n",
    "import pandas as pd\n",
    "from scipy.stats import kde\n",
    "import time\n",
    "import pickle\n",
    "import os\n",
    "import reproject\n",
    "from sklearn import preprocessing\n",
    "from sklearn.preprocessing import MinMaxScaler, Normalizer\n",
    "from IPython.display import Image\n",
    "import seaborn as sns\n",
    "\n",
    "%matplotlib notebook\n",
    "%matplotlib inline"
   ]
  },
  {
   "cell_type": "markdown",
   "metadata": {
    "slideshow": {
     "slide_type": "slide"
    }
   },
   "source": [
    "## cutout_func:\n",
    "### 1. Takes the hscmap output fits file and produces a 3\" x 3\" cutout with the source at the center \n",
    "    \n",
    "    This assures that all of the pre-stacked images will be the same size array-wise and the sources are in the center of each cutout\n",
    "    \n",
    "### 2. All of the images are then stacked, with the stacking being weighted by the inverse variance\n"
   ]
  },
  {
   "cell_type": "code",
   "execution_count": null,
   "metadata": {
    "slideshow": {
     "slide_type": "slide"
    }
   },
   "outputs": [],
   "source": [
    "# I start by importing my csv --> it contains all of the info on the 84 sources\n",
    "result = pd.read_csv(\"everything_you_need.csv\")\n",
    "print(\"Columns in csv:\")\n",
    "print(result.columns)\n",
    "print(\"Iterating thru these columns:\\n\", result.gfits[0:2])"
   ]
  },
  {
   "cell_type": "code",
   "execution_count": null,
   "metadata": {
    "slideshow": {
     "slide_type": "slide"
    }
   },
   "outputs": [],
   "source": [
    "\"\"\"\n",
    "After playing with cutouts, I knew that in this case, the outputted \n",
    "cutouts would be 2D 18x18 arrays, so I initialized those arrays to \n",
    "fill as we iterated through the fits files\n",
    "\n",
    "\"\"\"\n",
    "num = np.zeros((18,18))\n",
    "denom = np.zeros((18,18))"
   ]
  },
  {
   "cell_type": "code",
   "execution_count": null,
   "metadata": {
    "slideshow": {
     "slide_type": "subslide"
    }
   },
   "outputs": [],
   "source": [
    "for i in range(len(result)):\n",
    "    #Getting RA and Dec of source for cutout\n",
    "    band = \"gfits\" #in this case\n",
    "    respective_band = result[band].iloc[i]\n",
    "    RA = result[\"ra\"].iloc[i]\n",
    "    DEC = result[\"dec\"].iloc[i]\n",
    "    hdulist = fits.open(respective_band)\n",
    "\n",
    "    # Courtesy of hscMap \n",
    "    image = hdulist[1].data\n",
    "    mask = hdulist[2].data\n",
    "    variance = hdulist[3].data #for inverse variance\n",
    "\n",
    "    # Prepping for cutout\n",
    "    wcs = WCS(hdulist[1].header)\n",
    "    coords = SkyCoord(ra=RA*u.degree, dec=DEC*u.degree)\n",
    "    cut_center = SkyCoord(coords)\n",
    "    size = 3 #arcsecs\n",
    "    cutout_size = np.array([size, size]) * u.arcsec\n",
    "\n",
    "    # Doing a cutout on the image array\n",
    "    cutout = Cutout2D(image, cut_center, cutout_size, wcs=wcs)\n",
    "\n",
    "    # Doing a cutout on the variance array\n",
    "    adjusted_var = Cutout2D(variance, cut_center, cutout_size, wcs=wcs).data\n",
    "    \n",
    "    #added on/stacked to initialized num/denom arrays\n",
    "    num += cutout.data/adjusted_var \n",
    "    denom += 1/adjusted_var"
   ]
  },
  {
   "cell_type": "markdown",
   "metadata": {
    "slideshow": {
     "slide_type": "subslide"
    }
   },
   "source": [
    "### Weighted Inverse Variance Formula: $\\frac{\\sum \\frac{x_i}{\\sigma_i^{2}}}{\\sum \\frac{1}{\\sigma_i^{2}}}$"
   ]
  },
  {
   "cell_type": "code",
   "execution_count": null,
   "metadata": {
    "slideshow": {
     "slide_type": "subslide"
    }
   },
   "outputs": [],
   "source": [
    "#within the for loop\n",
    "#this is the summation that takes place in the formula\n",
    "num += cutout.data/adjusted_var \n",
    "denom += 1/adjusted_var\n",
    "    \n",
    "cutouts = num/denom \n",
    "print(\"Final cutout array shape:\", np.shape(cutouts))"
   ]
  },
  {
   "cell_type": "code",
   "execution_count": null,
   "metadata": {
    "slideshow": {
     "slide_type": "skip"
    }
   },
   "outputs": [],
   "source": [
    "plt.style.use(\"dark_background\")\n",
    "fig,(ax1) = plt.subplots(1,1, figsize = (8,5))\n",
    "title = \"Stacking\" + \" \" + band + \" \" + \"files \\n (for\" + \" \" + str(result.shape[0]) + \" \" + \"sources w/o counterparts)\" \n",
    "plt.title(title, weight = \"bold\", size = 20)\n",
    "plot = plt.imshow(cutouts, cmap = \"plasma\", extent=[-size/2 ,size/2,-size/2 ,size/2], aspect='auto')\n",
    "plt.contour(cutouts, 5, extent=[-size/2 ,size/2,-size/2 ,size/2],cmap='Greys')\n",
    "plt.xlabel(\"Arcsecs\", weight = \"bold\", size = 20)\n",
    "plt.ylabel(\"Arcsecs\", weight = \"bold\", size = 20)\n",
    "plt.tick_params(\"both\", labelsize = 20)\n",
    "cbar = fig.colorbar(plot)\n",
    "cbar.ax.tick_params(labelsize=20)\n",
    "plt.tight_layout()\n",
    "plt.savefig(\"gfits_stacked.png\")"
   ]
  },
  {
   "cell_type": "code",
   "execution_count": null,
   "metadata": {
    "slideshow": {
     "slide_type": "slide"
    }
   },
   "outputs": [],
   "source": [
    "Image(filename=\"gfits_stacked.png\")"
   ]
  }
 ],
 "metadata": {
  "kernelspec": {
   "display_name": "Python 3",
   "language": "python",
   "name": "python3"
  },
  "language_info": {
   "codemirror_mode": {
    "name": "ipython",
    "version": 3
   },
   "file_extension": ".py",
   "mimetype": "text/x-python",
   "name": "python",
   "nbconvert_exporter": "python",
   "pygments_lexer": "ipython3",
   "version": "3.7.6"
  }
 },
 "nbformat": 4,
 "nbformat_minor": 4
}
