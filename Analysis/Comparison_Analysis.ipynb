{
 "cells": [
  {
   "cell_type": "code",
   "execution_count": null,
   "metadata": {},
   "outputs": [],
   "source": [
    "import numpy as np\n",
    "from astropy.io import fits as fits\n",
    "import matplotlib.pyplot as plt\n",
    "import matplotlib.patches as patches \n",
    "from astropy.coordinates import SkyCoord\n",
    "from astropy.coordinates import match_coordinates_sky\n",
    "from astropy.coordinates import search_around_sky\n",
    "from astropy import units as u\n",
    "from astropy.coordinates import Angle, SkyCoord\n",
    "import matplotlib.cm as cm\n",
    "from scipy.ndimage import gaussian_filter as gf\n",
    "from astropy.nddata import Cutout2D\n",
    "import astropy.visualization as viz\n",
    "from astropy.wcs import WCS\n",
    "from astropy.visualization import ZScaleInterval\n",
    "import astropy.coordinates as coords\n",
    "from astropy.visualization.wcsaxes import WCSAxes\n",
    "import astropy.visualization.wcsaxes.frame as frame\n",
    "from astropy.table import Table\n",
    "import pandas as pd\n",
    "import scipy.stats as st\n",
    "from scipy.stats import kde, sigmaclip\n",
    "import time\n",
    "import pickle\n",
    "import os\n",
    "from sklearn import preprocessing\n",
    "from sklearn.preprocessing import MinMaxScaler, Normalizer\n",
    "from IPython.display import Image\n",
    "import seaborn as sns\n",
    "\n",
    "%matplotlib notebook\n",
    "%matplotlib inline"
   ]
  },
  {
   "cell_type": "markdown",
   "metadata": {},
   "source": [
    "### Gathering ALL HSC and Chandra Data"
   ]
  },
  {
   "cell_type": "code",
   "execution_count": null,
   "metadata": {},
   "outputs": [],
   "source": [
    "Chandra_Data = Table.read('Chandra_COSMOS_Legacy_20151120_4d.fits', format='fits').to_pandas()\n",
    "HSC_Data = pd.read_csv(\"Color_COSMOS_DD.csv\", dtype = np.float64).dropna(axis = 0, how = \"any\")"
   ]
  },
  {
   "cell_type": "markdown",
   "metadata": {},
   "source": [
    "### Determining counterparts"
   ]
  },
  {
   "cell_type": "code",
   "execution_count": null,
   "metadata": {},
   "outputs": [],
   "source": [
    "#pickles contain the ra & dec in a more manageable way!\n",
    "with open('/Users/linaflorez/Desktop/ObsCos/COSMOS_research/venv/moredataHSC_skycoords.pkl', 'rb') as f:\n",
    "    HSC_catalog = pickle.load(f)\n",
    "with open('/Users/linaflorez/Desktop/ObsCos/COSMOS_research/venv/Chandra_skycoords.pkl', 'rb') as f:\n",
    "    Chandra_catalog = pickle.load(f)\n",
    "\n",
    "    \n",
    "#determining counterparts\n",
    "max_sep = 2.5 * u.arcsec\n",
    "#idx1 indexes Chandra, idx2 indexes HSC\n",
    "idx1, idx2, sep2d, dist3d = search_around_sky(Chandra_catalog, HSC_catalog, max_sep) \n",
    "\n",
    "\n",
    "#applying the indices to the full dataframes (from 5e6 points and 4e3 to 3e3 dataframes)\n",
    "chandra_mask = Chandra_Data[\"RA_x\"].isin(Chandra_catalog.ra[idx1].value)\n",
    "hsc_mask = HSC_Data[\"# ra\"].isin(HSC_catalog.ra[idx2].value)\n",
    "HSC_matches = HSC_Data[hsc_mask]\n",
    "Chandra_matches = Chandra_Data[chandra_mask]\n",
    "\n",
    "\n",
    "#combining the dataframes\n",
    "HSC_matches.sort_values(by=['# ra'], inplace=True)\n",
    "Chandra_matches.sort_values(by=['RA_x'], inplace=True)\n",
    "HSC_matches = HSC_matches.drop(HSC_matches.index[[2,3]])\n",
    "HSC_matches = HSC_matches.reset_index()\n",
    "Chandra_matches = Chandra_matches.reset_index()\n",
    "\n",
    "print(\"Size of HSC catalog:\", np.shape(HSC_Data), \"&\", \"HSC length:\", np.shape(HSC_matches)) \n",
    "print(\"Size of Chandra catalog:\", np.shape(Chandra_Data),\"Chandra length:\", np.shape(Chandra_matches))"
   ]
  },
  {
   "cell_type": "markdown",
   "metadata": {},
   "source": [
    "### Combining data from Chandra and HSC of the matches into one dataframe"
   ]
  },
  {
   "cell_type": "code",
   "execution_count": null,
   "metadata": {},
   "outputs": [],
   "source": [
    "matches = pd.concat([Chandra_matches, HSC_matches], axis = 1).reindex(Chandra_matches.index)\n",
    "matches[\"RA_x\"].values[0], matches[\"# ra\"].values[0]"
   ]
  },
  {
   "cell_type": "code",
   "execution_count": null,
   "metadata": {},
   "outputs": [],
   "source": [
    "matches.shape"
   ]
  },
  {
   "cell_type": "markdown",
   "metadata": {},
   "source": [
    "### Comparing the 84 Chandra sources w/0 optical counterparts to the whole Chandra catalog"
   ]
  },
  {
   "cell_type": "code",
   "execution_count": null,
   "metadata": {},
   "outputs": [],
   "source": [
    "not_matched = pd.read_csv(\"no_optical_counterpart.csv\")\n",
    "# not_matched.columns"
   ]
  },
  {
   "cell_type": "code",
   "execution_count": null,
   "metadata": {},
   "outputs": [],
   "source": [
    "plt.style.use(\"seaborn\")\n",
    "fig, (ax1, ax2) = plt.subplots(1, 2, figsize = (15,5))\n",
    "hist = sns.distplot(not_matched.flux_F, color = \"tomato\", rug = True, bins = np.arange(0,1e-13,1e-15), \\\n",
    "                    kde = False, norm_hist = False, hist_kws={'edgecolor':'black'},ax = ax1)\n",
    "hist.set_xlabel(\"flux_F${_{matches}(0.5 - 10keV\\:[erg*cm^{-2}*s^{-1}])}$\", fontsize=15, fontweight='bold')\n",
    "hist.set_ylabel(\"Counts\", fontsize=15, fontweight='bold')\n",
    "hist.set_xlim([0,.15e-13])\n",
    "# hist.set_yscale(\"log\")\n",
    "ax1.tick_params(\"both\", labelsize = 20)\n",
    "\n",
    "\n",
    "hist2 = sns.distplot(Chandra_Data.flux_F, color = \"magenta\", rug = False,bins = np.arange(0,1e-13,0.1e-14),\\\n",
    "                     kde = False, norm_hist = False, hist_kws={'edgecolor':'black'},ax = ax2)\n",
    "# hist2.set_yscale(\"log\")\n",
    "hist2.set_xlim([0,1.5e-14])\n",
    "hist2.set_xlabel(\"flux_F${_{Chandra\\:Data}(0.5 - 10keV\\:[erg*cm^{-2}*s^{-1}])}$\", fontsize=15, fontweight='bold')\n",
    "hist2.set_ylabel(\"Counts\", fontsize=15, fontweight='bold')\n",
    "ax2.tick_params(\"both\", labelsize = 20)\n",
    "plt.tight_layout()\n",
    "plt.savefig(\"/Users/linaflorez/Desktop/ObsCos/COSMOS_research/Plots/Comparison/flux_F.png\")"
   ]
  },
  {
   "cell_type": "code",
   "execution_count": null,
   "metadata": {},
   "outputs": [],
   "source": [
    "plt.style.use(\"seaborn\")\n",
    "fig, (ax1, ax2) = plt.subplots(1, 2, figsize = (15,5))\n",
    "hist = sns.distplot(not_matched.flux_S, color = \"tomato\", rug = True, bins = np.arange(0,1e-13, 1e-16),\\\n",
    "                    kde = False, norm_hist = False, hist_kws={'edgecolor':'black'},ax = ax1)\n",
    "hist.set_xlabel(\"flux_S${_{not\\:matches}(0.5 - 2keV\\:[erg*cm^{-2}*s^{-1}])}$\", fontsize=15, fontweight='bold')\n",
    "hist.set_ylabel(\"Counts\", fontsize=15, fontweight='bold')\n",
    "# hist.set_yscale(\"log\")\n",
    "hist.set_xlim([0,1.5e-15])\n",
    "ax1.tick_params(\"both\", labelsize = 20)\n",
    "\n",
    "\n",
    "hist2 = sns.distplot(Chandra_Data.flux_S, color = \"magenta\", rug = False, bins = np.arange(0,1e-13, 1e-16),\\\n",
    "                     kde = False, norm_hist = False,hist_kws={'edgecolor':'black'}, ax = ax2)\n",
    "# hist2.set_yscale(\"log\")\n",
    "hist2.set_xlim([0,1.5e-15])\n",
    "hist2.set_xlabel(\"flux_S${_{Chandra\\:Data}(0.5 - 2keV\\:[erg*cm^{-2}*s^{-1}])}$\", fontsize=15, fontweight='bold')\n",
    "hist2.set_ylabel(\"Counts\", fontsize=15, fontweight='bold')\n",
    "ax1.tick_params(\"both\", labelsize = 20)\n",
    "ax2.tick_params(\"both\", labelsize = 20)\n",
    "plt.tight_layout()\n",
    "plt.savefig(\"/Users/linaflorez/Desktop/ObsCos/COSMOS_research/Plots/Comparison/flux_S.png\")"
   ]
  },
  {
   "cell_type": "code",
   "execution_count": null,
   "metadata": {},
   "outputs": [],
   "source": [
    "plt.style.use(\"seaborn\")\n",
    "fig, (ax1, ax2) = plt.subplots(1, 2, figsize = (15,5))\n",
    "hist = sns.distplot(not_matched.flux_H, color = \"tomato\", rug = True, bins = np.arange(0,1e-13, 1e-15),\\\n",
    "                    kde = False, norm_hist = False, hist_kws={'edgecolor':'black'},ax = ax1)\n",
    "hist.set_xlabel(\"flux_H${_{matches}(2 - 10keV\\:[erg*cm^{-2}*s^{-1}])}$\", fontsize=15, fontweight='bold')\n",
    "hist.set_ylabel(\"Counts\", fontsize=15, fontweight='bold')\n",
    "hist.set_yscale(\"log\")\n",
    "hist.set_xlim([0,2e-14])\n",
    "ax1.tick_params(\"both\", labelsize = 20)\n",
    "\n",
    "\n",
    "hist2 = sns.distplot(Chandra_Data.flux_H, color = \"magenta\", rug = False, bins = np.arange(0,1e-13, 1e-15),\\\n",
    "                     kde = False, norm_hist = False, hist_kws={'edgecolor':'black'},ax = ax2)\n",
    "hist2.set_yscale(\"log\")\n",
    "hist2.set_xlabel(\"flux_H${_{ChandraData}(0.5 - 2keV\\:[erg*cm^{-2}*s^{-1}])}$\", fontsize=15, fontweight='bold')\n",
    "hist2.set_ylabel(\"Counts\", fontsize=15, fontweight='bold')\n",
    "ax1.tick_params(\"both\", labelsize = 20)\n",
    "ax2.tick_params(\"both\", labelsize = 20)\n",
    "plt.tight_layout()\n",
    "plt.savefig(\"/Users/linaflorez/Desktop/ObsCos/COSMOS_research/Plots/Comparison/flux_H.png\")"
   ]
  },
  {
   "cell_type": "markdown",
   "metadata": {},
   "source": [
    "#### Matched bin based on HR\n",
    "\n",
    "The curve shows the density plot which is essentially a smooth version of the histogram. The y-axis is in terms of density, and the histogram is normalized by default so that it has the same y-scale as the density plot."
   ]
  },
  {
   "cell_type": "code",
   "execution_count": null,
   "metadata": {},
   "outputs": [],
   "source": [
    "plt.style.use(\"seaborn\")\n",
    "fig, (ax1, ax2, ax3) = plt.subplots(1, 3, figsize = (15,5))\n",
    "\n",
    "\n",
    "hist2 = sns.distplot(matches.HR[matches.HR > -60], color = \"blue\", bins = np.arange(-1,1,.05), \\\n",
    "                     rug = False, hist=True, kde=True, hist_kws={'edgecolor':'black'}, ax = ax1)\n",
    "hist2.set_xlabel(\"HR$_{matched}$\", fontsize=15, fontweight='bold')\n",
    "hist2.set_ylabel(\"Density\", fontsize=15, fontweight='bold')\n",
    "\n",
    "\n",
    "hist = sns.distplot(not_matched.HR[not_matched.HR > -20], color = \"tomato\", bins = np.arange(-1,1,.05), \\\n",
    "                    rug = True, hist=True, kde=True,hist_kws={'edgecolor':'black'}, ax = ax2)\n",
    "hist.set_xlabel(\"HR$_{not\\:matched}$\", fontsize=15, fontweight='bold')\n",
    "hist.set_ylabel(\"Density\", fontsize=15, fontweight='bold')\n",
    "ax1.tick_params(\"both\", labelsize = 20)\n",
    "\n",
    "\n",
    "hist3 = sns.distplot(Chandra_Data.HR[Chandra_Data.HR > -60], color = \"magenta\", bins = np.arange(-1,1,.05), \\\n",
    "                     rug = False, hist=True, kde=True, hist_kws={'edgecolor':'black'}, ax = ax3)\n",
    "hist3.set_xlabel(\"HR$_{Chandra\\:Data}$\", fontsize=15, fontweight='bold')\n",
    "hist3.set_ylabel(\"Density\", fontsize=15, fontweight='bold')\n",
    "\n",
    "ax1.tick_params(\"both\", labelsize = 20)\n",
    "ax2.tick_params(\"both\", labelsize = 20)\n",
    "ax3.tick_params(\"both\", labelsize = 20)\n",
    "\n",
    "plt.tight_layout()\n",
    "plt.savefig(\"/Users/linaflorez/Desktop/ObsCos/COSMOS_research/Plots/Comparison/HR_notmatchvall.png\")\n",
    "\n",
    "len(matches), len(not_matched), len(Chandra_Data)"
   ]
  },
  {
   "cell_type": "code",
   "execution_count": null,
   "metadata": {},
   "outputs": [],
   "source": [
    "plt.style.use(\"seaborn\")\n",
    "fig, (ax1, ax2) = plt.subplots(1, 2, figsize = (15,5))\n",
    "hist = sns.distplot(not_matched.HR[not_matched.HR < -50], color = \"tomato\",\\\n",
    "                    rug = True, hist=True, kde=False, hist_kws={'edgecolor':'black'}, ax = ax1)\n",
    "hist.set_xlabel(\"HR$_{not\\:matched}$\", fontsize=15, fontweight='bold')\n",
    "hist.set_ylabel(\"Count\", fontsize=15, fontweight='bold')\n",
    "hist.set_xlim = [-99.1, -98.9]\n",
    "ax1.tick_params(\"both\", labelsize = 20)\n",
    "\n",
    "\n",
    "hist2 = sns.distplot(Chandra_Data.HR[Chandra_Data.HR < -50],color = \"magenta\",  \\\n",
    "                     rug = False, hist=True, kde=False, hist_kws={'edgecolor':'black'}, ax = ax2)\n",
    "hist2.set_xlim = [-99.1, -98.9]\n",
    "hist2.set_ylabel(\"Count\", fontsize=15, fontweight='bold')\n",
    "ax1.tick_params(\"both\", labelsize = 20)\n",
    "ax2.tick_params(\"both\", labelsize = 20)\n",
    "plt.tight_layout()\n",
    "plt.savefig(\"/Users/linaflorez/Desktop/ObsCos/COSMOS_research/Plots/Comparison/HR_notmatchvall2.png\")"
   ]
  },
  {
   "cell_type": "code",
   "execution_count": null,
   "metadata": {},
   "outputs": [],
   "source": [
    "len(HSC_Data[\"rmag_psf\"][0::50]) * 50"
   ]
  },
  {
   "cell_type": "code",
   "execution_count": null,
   "metadata": {},
   "outputs": [],
   "source": [
    "HSC_Data.columns"
   ]
  },
  {
   "cell_type": "markdown",
   "metadata": {},
   "source": [
    "### Creating separate HSC and Chandra dataframes containing only sources with counterparts\n",
    "(i.e. sources that have matches)"
   ]
  },
  {
   "cell_type": "code",
   "execution_count": null,
   "metadata": {},
   "outputs": [],
   "source": [
    "Chandra_matches = Chandra_catalog[idx1]\n",
    "HSC_matches = HSC_Data.loc[HSC_Data[\"# ra\"].isin(HSC_catalog[idx2].ra.value)]#.any()"
   ]
  },
  {
   "cell_type": "markdown",
   "metadata": {},
   "source": [
    "### Getting sources with a certain G magnitude\n",
    "I wanted to focus HSC sources that had counterparts & a gcmodel_magnitude of roughly 26"
   ]
  },
  {
   "cell_type": "code",
   "execution_count": null,
   "metadata": {},
   "outputs": [],
   "source": [
    "gcmodel_mag26ish = HSC_matches.loc[abs(26 - HSC_matches[\"gcmodel_mag\"]) < 0.05][[\"# ra\",\"dec\"]][0:40:4]\n",
    "gcmodel_mag26ish.to_csv(\"gcmodel_mag26ish.csv\", index=False) #going to input this into hscmap"
   ]
  },
  {
   "cell_type": "code",
   "execution_count": null,
   "metadata": {},
   "outputs": [],
   "source": [
    "folder_path = \"/Users/linaflorez/Desktop/ObsCos/COSMOS_research/Restart/CheckingStackingG/\"\n",
    "ra = (gcmodel_mag26ish[\"# ra\"]).astype(str)\n",
    "\n",
    "## Making folders for all of the sources\n",
    "# for folder in ra:\n",
    "#     os.mkdir(os.path.join(folder_path,folder))\n",
    "\n",
    "g_fits = []\n",
    "\n",
    "# folder_path_name = \"/Users/linaflorez/Desktop/ObsCos/COSMOS_research/Restart/FITS_FILES\"\n",
    "\n",
    "for subdir, dirs, files in os.walk(folder_path):\n",
    "    for file in files:\n",
    "        if file.startswith(\"cutout-HSC-G\"):\n",
    "            g_fits.append([os.path.join(subdir, file).split(os.sep)[-2],os.path.join(subdir, file)])\n",
    "            \n",
    "g_fits = np.array(g_fits)\n",
    "\n",
    "#Organizing the sources for handling later on\n",
    "indices = []\n",
    "for index_j,j in enumerate(ra.values):\n",
    "    for index_i,i in enumerate(g_fits[:,0]):\n",
    "        if j == i:\n",
    "            indices.append(index_i)\n",
    "gcmodel_mag26ish[\"gfits\"] = g_fits[indices][:,1]"
   ]
  }
 ],
 "metadata": {
  "kernelspec": {
   "display_name": "Python 3",
   "language": "python",
   "name": "python3"
  },
  "language_info": {
   "codemirror_mode": {
    "name": "ipython",
    "version": 3
   },
   "file_extension": ".py",
   "mimetype": "text/x-python",
   "name": "python",
   "nbconvert_exporter": "python",
   "pygments_lexer": "ipython3",
   "version": "3.7.6"
  }
 },
 "nbformat": 4,
 "nbformat_minor": 4
}
